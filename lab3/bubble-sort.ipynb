{
 "cells": [
  {
   "attachments": {},
   "cell_type": "markdown",
   "metadata": {},
   "source": [
    "Bubble sort <br>\n",
    "Źródła: https://iq.opengenus.org/parallel-bubble-sort/ <br>\n",
    "https://realpython.com/sorting-algorithms-python/#the-bubble-sort-algorithm-in-python <br>\n",
    "https://www.dcc.fc.up.pt/~ricroc/aulas/1516/cp/apontamentos/slides_sorting.pdf"
   ]
  },
  {
   "cell_type": "code",
   "execution_count": 42,
   "metadata": {},
   "outputs": [],
   "source": [
    "import random\n",
    "import multiprocessing\n",
    "import threading\n",
    "import itertools\n",
    "import time\n",
    "import matplotlib.pyplot as plt"
   ]
  },
  {
   "cell_type": "code",
   "execution_count": 10,
   "metadata": {},
   "outputs": [],
   "source": [
    "# Generowanie danych\n",
    "N = 1000\n",
    "data = [(random.randint(0,N)) for i in range(N)]"
   ]
  },
  {
   "cell_type": "code",
   "execution_count": 3,
   "metadata": {},
   "outputs": [],
   "source": [
    "lock = threading.Lock()\n",
    "def bubble_sort(array):\n",
    "    lock.acquire()\n",
    "    n = len(array)\n",
    "\n",
    "    for i in range(n):\n",
    "        already_sorted = True\n",
    "\n",
    "        for j in range(n - i - 1):\n",
    "            if array[j] > array[j + 1]:\n",
    "                array[j], array[j + 1] = array[j + 1], array[j]\n",
    "                already_sorted = False\n",
    "\n",
    "        if already_sorted:\n",
    "            break\n",
    "        \n",
    "    lock.release()\n",
    "\n",
    "    return array"
   ]
  },
  {
   "cell_type": "code",
   "execution_count": 4,
   "metadata": {},
   "outputs": [],
   "source": [
    "# Równoległy bubble sort\n",
    "\n",
    "def bubble_parallel(array): \n",
    "        \n",
    "        threads = multiprocessing.cpu_count()\n",
    "        \n",
    "        # dziel na sublisty\n",
    "        chunks = [[] for _ in range(threads)]\n",
    "\n",
    "        for j in range(1,len(chunks)):\n",
    "            for i in array:\n",
    "                if i <= (int(max(array)/threads)*j):\n",
    "                        chunks[j-1].append(i)\n",
    "                        # usun jak juz dodane\n",
    "                        array = [x for x in array if x != i]\n",
    "            # to co zotalo do ostatniego chunka\n",
    "            chunks[-1] = array\n",
    "\n",
    "        # start threads\n",
    "        active_threads = []\n",
    "        for list_item in chunks:\n",
    "            t = threading.Thread(target=bubble_sort, args=(list_item,))\n",
    "            t.start()\n",
    "            active_threads.append(t)\n",
    "            \n",
    "        # stop threads\n",
    "        for thread in active_threads:\n",
    "            thread.join()\n",
    "\n",
    "        return list(itertools.chain(*chunks))\n"
   ]
  },
  {
   "attachments": {},
   "cell_type": "markdown",
   "metadata": {},
   "source": [
    "Równolegle"
   ]
  },
  {
   "cell_type": "code",
   "execution_count": 61,
   "metadata": {},
   "outputs": [],
   "source": [
    "N = [100, 1000, 10000, 30000, 50000, 70000, 100000, 120000]\n",
    "parallel_times = []\n",
    "parallel_size = []\n",
    "for i in N:\n",
    "    data = [(random.randint(0,i)) for j in range(i)]\n",
    "    start_time = time.time()\n",
    "    bubble_parallel(data)\n",
    "    stop_time = time.time() - start_time\n",
    "    parallel_times.append(stop_time)\n",
    "    parallel_size.append(i)\n",
    "    "
   ]
  },
  {
   "attachments": {},
   "cell_type": "markdown",
   "metadata": {},
   "source": [
    "Sekwencyjnie"
   ]
  },
  {
   "cell_type": "code",
   "execution_count": 62,
   "metadata": {},
   "outputs": [],
   "source": [
    "N = [100, 1000, 10000, 30000, 50000, 70000, 100000, 120000]\n",
    "seq_times = []\n",
    "seq_size = []\n",
    "for i in N:\n",
    "    data = [(random.randint(0,i)) for j in range(i)]\n",
    "    start_time = time.time()\n",
    "    bubble_sort(data)\n",
    "    stop_time = time.time() - start_time\n",
    "    seq_times.append(stop_time)\n",
    "    seq_size.append(i)"
   ]
  },
  {
   "cell_type": "code",
   "execution_count": 63,
   "metadata": {},
   "outputs": [
    {
     "data": {
      "image/png": "[encoded data removed]",
      "text/plain": [
       "<Figure size 432x288 with 1 Axes>"
      ]
     },
     "metadata": {
      "needs_background": "light"
     },
     "output_type": "display_data"
    }
   ],
   "source": [
    "plt.scatter(parallel_size, parallel_times)\n",
    "plt.scatter(seq_size, seq_times)\n",
    "plt.xlabel('Rozmiar sortowanej listy')\n",
    "plt.ylabel('Czas sortowania [s]')\n",
    "plt.legend(['Równolegle', 'Sekwencyjnie'])\n",
    "plt.savefig('output1.pdf', bbox_inches='tight')\n",
    "plt.show()"
   ]
  },
  {
   "cell_type": "code",
   "execution_count": 64,
   "metadata": {},
   "outputs": [
    {
     "data": {
      "image/png": "[encoded data removed]",
      "text/plain": [
       "<Figure size 432x288 with 1 Axes>"
      ]
     },
     "metadata": {
      "needs_background": "light"
     },
     "output_type": "display_data"
    }
   ],
   "source": [
    "plt.scatter(parallel_size, parallel_times)\n",
    "plt.scatter(seq_size, seq_times)\n",
    "plt.xlabel('Rozmiar sortowanej listy')\n",
    "plt.ylabel('Czas sortowania [s]')\n",
    "plt.legend(['Równolegle', 'Sekwencyjnie'])\n",
    "plt.loglog()\n",
    "plt.savefig('outputlog.pdf', bbox_inches='tight')\n",
    "plt.show()"
   ]
  }
 ],
 "metadata": {
  "kernelspec": {
   "display_name": "Python 3",
   "language": "python",
   "name": "python3"
  },
  "language_info": {
   "codemirror_mode": {
    "name": "ipython",
    "version": 3
   },
   "file_extension": ".py",
   "mimetype": "text/x-python",
   "name": "python",
   "nbconvert_exporter": "python",
   "pygments_lexer": "ipython3",
   "version": "3.8.10 (tags/v3.8.10:3d8993a, May  3 2021, 11:48:03) [MSC v.1928 64 bit (AMD64)]"
  },
  "orig_nbformat": 4,
  "vscode": {
   "interpreter": {
    "hash": "08b087cb39c910440633d7b4b0935109c2493f7e7f0d11271e25ec1fabf8a1b6"
   }
  }
 },
 "nbformat": 4,
 "nbformat_minor": 2
}
